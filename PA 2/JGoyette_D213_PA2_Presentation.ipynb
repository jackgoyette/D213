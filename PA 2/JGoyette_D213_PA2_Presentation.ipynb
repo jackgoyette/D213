{
 "cells": [
  {
   "cell_type": "markdown",
   "id": "d306b411-2f0b-4314-bb3f-3c11ea1e1b41",
   "metadata": {},
   "source": [
    "Student Information:\n",
    "\n",
    "Jackson Goyette\n",
    "\n",
    "ID #: 011028154\n",
    "\n",
    "2024-12-11\n",
    "\n",
    "A1:\n",
    "Can we create a neural network to accurately predict whether a review is positive or negative using data from previous customer reviews?\n",
    "\n",
    "A2:\n",
    "The goal of this analysis will be to create a neural network model that can assess whether a given review is negative or positive based on the text of the review. With this information, we can apply our model to reviews scraped from sources that do not have an explicit way to rate “good” or “bad,” giving us more insight into target audiences.\n",
    "\n",
    "A3:\n",
    "For this analysis, I will be using an Artificial Neural Network. Before the hidden layers, I will have an embedding layer where I specify word embedding length and embedding length. I would also include the maximum length here, but an error message informed me of the depreciation of that input."
   ]
  },
  {
   "cell_type": "code",
   "execution_count": 75,
   "id": "46a37a52-1aab-484c-9800-ca8dcedbb775",
   "metadata": {},
   "outputs": [],
   "source": [
    "import pandas as pd\n",
    "import numpy as np\n",
    "\n",
    "from sklearn import preprocessing\n",
    "from sklearn.preprocessing import OneHotEncoder\n",
    "from sklearn import model_selection\n",
    "from sklearn.model_selection import train_test_split\n",
    "import re\n",
    "import matplotlib.pyplot as plt\n",
    "import seaborn as sns\n",
    "\n",
    "import nltk\n",
    "from nltk.corpus import stopwords\n",
    "\n",
    "import tensorflow as tf\n",
    "import keras\n",
    "from tensorflow.keras.preprocessing.text import Tokenizer\n",
    "from tensorflow.keras.callbacks import EarlyStopping\n",
    "from tensorflow.keras.models import load_model\n",
    "from tensorflow.keras.layers import Dense, Embedding, Dropout\n",
    "from tensorflow.keras.models import Sequential\n",
    "from tensorflow.keras.preprocessing.sequence import pad_sequences"
   ]
  },
  {
   "cell_type": "markdown",
   "id": "0cd77df3-80ff-4147-9bf0-ed40e5a8fdb4",
   "metadata": {},
   "source": [
    "B1: \n",
    "To begin exploratory analysis, we first have to import our data from the three sets of reviews given and concatonate them."
   ]
  },
  {
   "cell_type": "code",
   "execution_count": 76,
   "id": "dcd8f6ee-f93d-4b80-b714-c1d52eac063b",
   "metadata": {},
   "outputs": [
    {
     "name": "stdout",
     "output_type": "stream",
     "text": [
      "                                                Reviews  Scores\n",
      "0     A very, very, very slow-moving, aimless movie ...       0\n",
      "1     Not sure who was more lost - the flat characte...       0\n",
      "2     Attempting artiness with black & white and cle...       0\n",
      "3          Very little music or anything to speak of.         0\n",
      "4     The best scene in the movie was when Gerardo i...       1\n",
      "...                                                 ...     ...\n",
      "2995  The screen does get smudged easily because it ...       0\n",
      "2996  What a piece of junk.. I lose more calls on th...       0\n",
      "2997                       Item Does Not Match Picture.       0\n",
      "2998  The only thing that disappoint me is the infra...       0\n",
      "2999  You can not answer calls with the unit, never ...       0\n",
      "\n",
      "[3000 rows x 2 columns]\n"
     ]
    }
   ],
   "source": [
    "# Read the file\n",
    "\n",
    "imdb_df = pd.read_csv(\"sentiment labelled sentences/imdb_labelled.txt\", sep = \"\\t\", header = None, names = [\"Reviews\", \"Scores\"], quoting = 3)\n",
    "yelp_df = pd.read_csv(\"sentiment labelled sentences/yelp_labelled.txt\", sep = \"\\t\", header = None, names = [\"Reviews\", \"Scores\"], quoting = 3)\n",
    "amazon_df = pd.read_csv(\"sentiment labelled sentences/amazon_cells_labelled.txt\", sep = \"\\t\", header = None, names = [\"Reviews\", \"Scores\"], quoting = 3)\n",
    "\n",
    "review_df = pd.concat([imdb_df, yelp_df, amazon_df], ignore_index = True)\n",
    "\n",
    "print(review_df)"
   ]
  },
  {
   "cell_type": "code",
   "execution_count": 77,
   "id": "cda76b85-f8c4-41af-94bb-6dc0caa9f76a",
   "metadata": {},
   "outputs": [
    {
     "name": "stdout",
     "output_type": "stream",
     "text": [
      "                                                Reviews  Scores\n",
      "0     A very, very, very slow-moving, aimless movie ...       0\n",
      "1     Not sure who was more lost - the flat characte...       0\n",
      "2     Attempting artiness with black & white and cle...       0\n",
      "3          Very little music or anything to speak of.         0\n",
      "4     The best scene in the movie was when Gerardo i...       1\n",
      "...                                                 ...     ...\n",
      "2995  The screen does get smudged easily because it ...       0\n",
      "2996  What a piece of junk.. I lose more calls on th...       0\n",
      "2997                       Item Does Not Match Picture.       0\n",
      "2998  The only thing that disappoint me is the infra...       0\n",
      "2999  You can not answer calls with the unit, never ...       0\n",
      "\n",
      "[3000 rows x 2 columns]\n"
     ]
    }
   ],
   "source": [
    "# Dropping null values\n",
    "\n",
    "review_df = review_df.dropna()\n",
    "\n",
    "print(review_df)"
   ]
  },
  {
   "cell_type": "markdown",
   "id": "bb0e9257-3927-48d7-a642-f0702b8eaeab",
   "metadata": {},
   "source": [
    "B1 (cont):\n",
    "A few function calls shows us the data is as expected: raw customer review text with a 50/50 split of positive and negative reviews."
   ]
  },
  {
   "cell_type": "code",
   "execution_count": 78,
   "id": "c007bac4-28c4-4c18-ba0d-9b7fb84b145e",
   "metadata": {},
   "outputs": [
    {
     "name": "stdout",
     "output_type": "stream",
     "text": [
      "            Scores\n",
      "count  3000.000000\n",
      "mean      0.500000\n",
      "std       0.500083\n",
      "min       0.000000\n",
      "25%       0.000000\n",
      "50%       0.500000\n",
      "75%       1.000000\n",
      "max       1.000000\n",
      "                                             Reviews  Scores\n",
      "0  A very, very, very slow-moving, aimless movie ...       0\n",
      "1  Not sure who was more lost - the flat characte...       0\n",
      "2  Attempting artiness with black & white and cle...       0\n",
      "3       Very little music or anything to speak of.         0\n",
      "4  The best scene in the movie was when Gerardo i...       1\n"
     ]
    },
    {
     "data": {
      "image/png": "[encoded data removed]",
      "text/plain": [
       "<Figure size 640x480 with 1 Axes>"
      ]
     },
     "metadata": {},
     "output_type": "display_data"
    }
   ],
   "source": [
    "# exploratory analysis\n",
    "\n",
    "print(review_df.describe())\n",
    "\n",
    "print(review_df.head())\n",
    "\n",
    "\n",
    "sns.countplot(x = \"Scores\", data = review_df)\n",
    "plt.show()"
   ]
  },
  {
   "cell_type": "markdown",
   "id": "c2320ecf-6eb4-49af-a00a-f0fe70b9723e",
   "metadata": {},
   "source": [
    "B1 (cont): Unusual characters\n",
    "\n",
    "With just the summary we can see that there are non-alpha characters like punctuation and even a few emoticons (for example: “:^)”).\n",
    "\n",
    "To ensure we have just the words to feed to the neural network, we start by putting everything in lowercase. Then we use replacement to remove everything that is not an alphabet character."
   ]
  },
  {
   "cell_type": "code",
   "execution_count": 79,
   "id": "0f0d659e-bc95-4f1e-a0a1-df47cbccec89",
   "metadata": {},
   "outputs": [
    {
     "name": "stdout",
     "output_type": "stream",
     "text": [
      "                                                Reviews  Scores\n",
      "0     a very  very  very slow moving  aimless movie ...       0\n",
      "1     not sure who was more lost   the flat characte...       0\n",
      "2     attempting artiness with black   white and cle...       0\n",
      "3          very little music or anything to speak of          0\n",
      "4     the best scene in the movie was when gerardo i...       1\n",
      "...                                                 ...     ...\n",
      "2995  the screen does get smudged easily because it ...       0\n",
      "2996  what a piece of junk   i lose more calls on th...       0\n",
      "2997                       item does not match picture        0\n",
      "2998  the only thing that disappoint me is the infra...       0\n",
      "2999  you can not answer calls with the unit  never ...       0\n",
      "\n",
      "[3000 rows x 2 columns]\n"
     ]
    }
   ],
   "source": [
    "# everything in lowercase\n",
    "\n",
    "review_df[\"Reviews\"] = review_df[\"Reviews\"].str.lower()\n",
    "\n",
    "# removing non-alphanumeric characters and punctuation\n",
    "\n",
    "review_df[\"Reviews\"] = review_df[\"Reviews\"].str.replace(\"[^\\w\\s]\", \" \", regex = True)\n",
    "\n",
    "\n",
    "print(review_df)"
   ]
  },
  {
   "cell_type": "markdown",
   "id": "eee1d28f-870f-4721-9ce8-4eeb3e86b6ee",
   "metadata": {},
   "source": [
    "B1 (cont):\n",
    "\n",
    "Once the data is just lowercase words and spaces, we can tokenize and lemmetize the data. We also remove \"stopwords\" in this process. Stopwords include language that is so ubiquitous that it doesn't add anything to the analysis, generally. This includes articles, many conjunctions, and prepositions. One of the words I specified to keep that is normally a stopword is \"not.\" This felt vital based on our data - it's the difference between \"this movie/restaurant/product is NOT good\" and \"this thing is good.\" An important distinction to make when training a neural network to assess good and bad reviews!\n",
    "\n",
    "Here, the tokenization process is to break down each of the words within the reviews and pass them through to the lemmatizer.\n",
    "\n",
    "Lemmatizing the words breaks them down to their root word. Stink, stank, and stunk all become \"stink\" when put through the lemmatizer. This allows for a smaller vocabulary to be necessary within the neural network, cutting down on processing power and streamlining the training."
   ]
  },
  {
   "cell_type": "code",
   "execution_count": 80,
   "id": "f6e9feb7-88bf-4792-a5d0-fcfcb4398877",
   "metadata": {},
   "outputs": [
    {
     "name": "stdout",
     "output_type": "stream",
     "text": [
      "3000\n"
     ]
    }
   ],
   "source": [
    "# tokenization/lemmatization code adapted from Dr. Festus Elleh's D213 Webinar\n",
    "\n",
    "review_list= []\n",
    "stop_words = stopwords.words(\"english\")\n",
    "\n",
    "# keep not as it is important in reviews: \"this product is not good\" vs \"this product is good\"\n",
    "stop_words.remove(\"not\")\n",
    "\n",
    "for review in review_df[\"Reviews\"]:\n",
    "    \n",
    "    review = nltk.word_tokenize(review)\n",
    "\n",
    "    lemma = nltk.WordNetLemmatizer()\n",
    "    review = [lemma.lemmatize(word, \"v\") for word in review]\n",
    "\n",
    "    review = [word for word in review if not word in stop_words]\n",
    "    review = \" \".join(review)\n",
    "    review_list.append(review)\n",
    "\n",
    "# We want to see 3,000 here so we know they are all copied over\n",
    "print(len(review_list))"
   ]
  },
  {
   "cell_type": "markdown",
   "id": "49f2244a-dbe7-4e5c-a862-60b125beb25a",
   "metadata": {},
   "source": [
    "B1: Vocabulary length\n",
    "\n",
    "In this instance of the tokenizer, it takes in the list of words we created above; the entire collection of words within the reviews. It parses through the broken down list of words and calculates the unique number of words within it.\n",
    "\n",
    "In this case, the proposed vocabulary size is 4,317, as that is the number of unique words contained within our tokenized and lemmatized reviews."
   ]
  },
  {
   "cell_type": "code",
   "execution_count": 81,
   "id": "3b58bc84-8b27-480a-9beb-a05b1ed2954f",
   "metadata": {},
   "outputs": [
    {
     "name": "stdout",
     "output_type": "stream",
     "text": [
      "Vocabulary size:  4317\n"
     ]
    }
   ],
   "source": [
    "# Vocab size\n",
    "tokenizer = Tokenizer()\n",
    "tokenizer.fit_on_texts(review_list)\n",
    "vocab_len = len(tokenizer.word_index) + 1\n",
    "print(\"Vocabulary size: \", vocab_len)"
   ]
  },
  {
   "cell_type": "markdown",
   "id": "805a98d4-7eb3-42f4-ae2a-38627764e1ed",
   "metadata": {},
   "source": [
    "B1: Word embedding length and maximum sequence length\n",
    "\n",
    "A jumping off point for word embedding is the 4th root of the vocabulary size, but with this calculation, the result is too small to actually make an impact. Below, for the model, I opted for a value of 100 instead, per industry standards.\n",
    "\n",
    "For maximum sequence length, I found the longest review to be 44 characters long, so I simply opted for that as the maximum value."
   ]
  },
  {
   "cell_type": "code",
   "execution_count": 82,
   "id": "819c98e5-4834-4125-9ea0-2769aa8f594a",
   "metadata": {},
   "outputs": [
    {
     "name": "stdout",
     "output_type": "stream",
     "text": [
      "Longest review is:  44\n",
      "Shortest review is:  1\n",
      "Middlest... Median review length:  5.0\n",
      "Prelim embedding length:  8\n"
     ]
    },
    {
     "data": {
      "image/png": "[encoded data removed]",
      "text/plain": [
       "<Figure size 640x480 with 1 Axes>"
      ]
     },
     "metadata": {},
     "output_type": "display_data"
    }
   ],
   "source": [
    "# Review length exploration from Dr. Festus Elleh's D213 Webinar\n",
    "review_length = []\n",
    "for char_len in review_list:\n",
    "    review_length.append(len(char_len.split(\" \")))\n",
    "\n",
    "review_max = np.max(review_length)\n",
    "review_min = np.min(review_length)\n",
    "review_med = np.median(review_length)\n",
    "\n",
    "print(\"Longest review is: \", review_max)\n",
    "print(\"Shortest review is: \", review_min)\n",
    "print(\"Middlest... Median review length: \", review_med)\n",
    "\n",
    "# embedding is sqrt of sqrt to start\n",
    "print(\"Prelim embedding length: \", int(round(np.sqrt(np.sqrt(4317)), 0)))\n",
    "\n",
    "sns.kdeplot(review_length)\n",
    "plt.show()"
   ]
  },
  {
   "cell_type": "code",
   "execution_count": 83,
   "id": "29d4824c-7fe2-4f1a-8bb5-81191bb198ac",
   "metadata": {},
   "outputs": [
    {
     "name": "stdout",
     "output_type": "stream",
     "text": [
      "Training size:  2400\n",
      "Testing size:  600\n"
     ]
    }
   ],
   "source": [
    "# Train and test split\n",
    "X = np.array(review_list)\n",
    "y = review_df[\"Scores\"]\n",
    "\n",
    "X_train, X_test, y_train, y_test = train_test_split(X, y, test_size = .20, random_state = 42, stratify = y)\n",
    "\n",
    "# Double check sizes are appropriate\n",
    "print(\"Training size: \", len(X_train))\n",
    "print(\"Testing size: \", len(X_test))"
   ]
  },
  {
   "cell_type": "markdown",
   "id": "4cf77793-d9c0-420f-b9aa-5bfa14955ec0",
   "metadata": {},
   "source": [
    "B2 and B3: Tokenization and padding\n",
    "\n",
    "The goal of the tokenization process here is to parse the words into a list of numeric values that the neural network can work with. I imported the tokenizer function from the keris preprocessing package to do this. \n",
    "\n",
    "Because our inputs need to be of equal dimension, I padded them to create a matrix. Below you can see the list of numbers after the tokenization process and the matrix that is produced as a result of padding. The padding here happens before the text sequence, as shown by the zeroes before the values in the padded matrix.\n",
    "\n",
    "See output below for the single padded sequence."
   ]
  },
  {
   "cell_type": "code",
   "execution_count": 84,
   "id": "eb95c499-fe34-4bbb-9044-defbdb1a1eab",
   "metadata": {},
   "outputs": [
    {
     "name": "stdout",
     "output_type": "stream",
     "text": [
      "[6, 1813, 215, 1214, 193]\n",
      "[   0    0    0    0    0    0    0    0    0    0    0    0    0    0\n",
      "    0    0    0    0    0    0    0    0    0    0    0    0    0    0\n",
      "    0    0    0    0    0    0    0    0    0    0    0    6 1813  215\n",
      " 1214  193]\n"
     ]
    }
   ],
   "source": [
    "# Tokenization and padding\n",
    "sequences_train = tokenizer.texts_to_sequences(X_train)\n",
    "padded_train = pad_sequences(sequences_train, maxlen = review_max)\n",
    "\n",
    "sequences_test = tokenizer.texts_to_sequences(X_test)\n",
    "padded_test = pad_sequences(sequences_test, maxlen = review_max)\n",
    "\n",
    "print(sequences_train[0])\n",
    "print(padded_train[0])"
   ]
  },
  {
   "cell_type": "code",
   "execution_count": 85,
   "id": "34bc3244-cd60-4689-a6c2-b377e0393c59",
   "metadata": {},
   "outputs": [],
   "source": [
    "# Exporting\n",
    "X_train_df=pd.DataFrame(padded_train)\n",
    "X_train_df.to_csv(\"X_train_padded.csv\")\n",
    "                    \n",
    "X_test_df=pd.DataFrame(padded_test)\n",
    "X_test_df.to_csv(\"X_test_padded.csv\")\n",
    "\n",
    "y_train_df=pd.DataFrame(y_train)\n",
    "y_train_df.to_csv(\"y_train.csv\")\n",
    "\n",
    "y_test_df=pd.DataFrame(y_test)\n",
    "y_test_df.to_csv(\"y_test.csv\")"
   ]
  },
  {
   "cell_type": "markdown",
   "id": "da24bc72-33a1-4010-b290-da5b4ff8a1d4",
   "metadata": {},
   "source": [
    "B4:\n",
    "\n",
    "There are be two categories of sentiment and therefore two nodes in the final dense layer of our neural network. These outputs correspond to negative (0) and positive (1)."
   ]
  },
  {
   "cell_type": "code",
   "execution_count": 86,
   "id": "f2f30a62-8399-488d-8eab-b9ab9b9b5eef",
   "metadata": {},
   "outputs": [
    {
     "name": "stdout",
     "output_type": "stream",
     "text": [
      "      Scores_0  Scores_1\n",
      "2111     False      True\n",
      "2390     False      True\n",
      "2379      True     False\n",
      "1782     False      True\n",
      "1777      True     False\n",
      "...        ...       ...\n",
      "2586     False      True\n",
      "2222     False      True\n",
      "1534      True     False\n",
      "856       True     False\n",
      "507       True     False\n",
      "\n",
      "[2400 rows x 2 columns]\n",
      "      Scores_0  Scores_1\n",
      "320      False      True\n",
      "2036     False      True\n",
      "459       True     False\n",
      "2939     False      True\n",
      "2286      True     False\n",
      "...        ...       ...\n",
      "1097     False      True\n",
      "2462      True     False\n",
      "18       False      True\n",
      "1863     False      True\n",
      "842      False      True\n",
      "\n",
      "[600 rows x 2 columns]\n"
     ]
    }
   ],
   "source": [
    "# One hot encoding y data\n",
    "y_train_encoded = pd.get_dummies(y_train_df, columns = [\"Scores\"])\n",
    "print(y_train_encoded)\n",
    "\n",
    "y_test_encoded = pd.get_dummies(y_test_df, columns = [\"Scores\"])\n",
    "print(y_test_encoded)"
   ]
  },
  {
   "cell_type": "markdown",
   "id": "7ea3f676-cf27-4e8a-ba76-04791b6e773c",
   "metadata": {},
   "source": [
    "B5:\n",
    "\n",
    "Once the data was imported and concatonated, the first step I took in cleaning the data was to assure there were no missing variables. All 3,000 data points appeared to be in order, so a \"dropna()\" was not necessary (but was performed anyway for thoroughness). Next, I performed some exploratory data analysis to make sure the data was what we expected from the source. It was - I found 3,000 entries (3 dataframes of 1,000 reviews each), an even 50/50 split on positive and negative rewviews, and a maximum of 1 in the \"Scores\" field. With the data itself in good condition, I started on the process to clean it for our neural network.\n",
    "\n",
    "This process included removing all punctuation and capitalization, so we were only dealing with 26 unique characters (techincally 27 if you include spaces). Then came the lemmatization - breaking down all the words into their roots. In our case, a customer saying \"It did not do what I wanted\" and \"It does not do what I want\" are effectively the same thing. Tense does not matter for us. With lemmatization and the removal of stopwords, both of these reviews would become something along the lines of \"not do what want.\" This is the essense of the review, and even in caveman-speak we can tell that it is negative. Surely the neural network will as well!\n",
    "\n",
    "Next I split the data into our testing and training sets at an 80/20 train/test ratio, as I have seen that or 75/25 as the standard. For validation further down in the fitting of the model, I also opted for this same split in training/validation.\n",
    "\n",
    "Penultimately came the process of tokenization and padding. Tokenization here meant we were converting the strings of words into numeric values that are readable by the neural network and able to be passed through the different layers. Each string became a list of digits. Due to the input limitations of neural networks, we needed to make sure the inputs were of the same length. This is where we used padding to convert all the lists into matricies of equal dimension, padding them with 0 values.\n",
    "\n",
    "Last was the simple case of one hot encoding the binary column of positive/negative into two separate columns to reflect our two nodes at the end of the network.\n",
    "\n",
    "B6:\n",
    "\n",
    "See attached csv files: \"X_test_padded\", \"X_test\", \"X_train_padded\", \"X_train\", \"y_test\", and \"y_train\"."
   ]
  },
  {
   "cell_type": "code",
   "execution_count": 74,
   "id": "3e3277b0-e19e-46d0-9fa1-812c0e303f76",
   "metadata": {},
   "outputs": [
    {
     "data": {
      "text/html": [
       "<pre style=\"white-space:pre;overflow-x:auto;line-height:normal;font-family:Menlo,'DejaVu Sans Mono',consolas,'Courier New',monospace\"><span style=\"font-weight: bold\">Model: \"sequential_58\"</span>\n",
       "</pre>\n"
      ],
      "text/plain": [
       "\u001b[1mModel: \"sequential_58\"\u001b[0m\n"
      ]
     },
     "metadata": {},
     "output_type": "display_data"
    },
    {
     "data": {
      "text/html": [
       "<pre style=\"white-space:pre;overflow-x:auto;line-height:normal;font-family:Menlo,'DejaVu Sans Mono',consolas,'Courier New',monospace\">┏━━━━━━━━━━━━━━━━━━━━━━━━━━━━━━━━━━━━━━┳━━━━━━━━━━━━━━━━━━━━━━━━━━━━━┳━━━━━━━━━━━━━━━━━┓\n",
       "┃<span style=\"font-weight: bold\"> Layer (type)                         </span>┃<span style=\"font-weight: bold\"> Output Shape                </span>┃<span style=\"font-weight: bold\">         Param # </span>┃\n",
       "┡━━━━━━━━━━━━━━━━━━━━━━━━━━━━━━━━━━━━━━╇━━━━━━━━━━━━━━━━━━━━━━━━━━━━━╇━━━━━━━━━━━━━━━━━┩\n",
       "│ embedding_58 (<span style=\"color: #0087ff; text-decoration-color: #0087ff\">Embedding</span>)             │ (<span style=\"color: #00d7ff; text-decoration-color: #00d7ff\">None</span>, <span style=\"color: #00af00; text-decoration-color: #00af00\">44</span>, <span style=\"color: #00af00; text-decoration-color: #00af00\">44</span>)              │         <span style=\"color: #00af00; text-decoration-color: #00af00\">189,948</span> │\n",
       "├──────────────────────────────────────┼─────────────────────────────┼─────────────────┤\n",
       "│ global_average_pooling1d_58          │ (<span style=\"color: #00d7ff; text-decoration-color: #00d7ff\">None</span>, <span style=\"color: #00af00; text-decoration-color: #00af00\">44</span>)                  │               <span style=\"color: #00af00; text-decoration-color: #00af00\">0</span> │\n",
       "│ (<span style=\"color: #0087ff; text-decoration-color: #0087ff\">GlobalAveragePooling1D</span>)             │                             │                 │\n",
       "├──────────────────────────────────────┼─────────────────────────────┼─────────────────┤\n",
       "│ dense_233 (<span style=\"color: #0087ff; text-decoration-color: #0087ff\">Dense</span>)                    │ (<span style=\"color: #00d7ff; text-decoration-color: #00d7ff\">None</span>, <span style=\"color: #00af00; text-decoration-color: #00af00\">100</span>)                 │           <span style=\"color: #00af00; text-decoration-color: #00af00\">4,500</span> │\n",
       "├──────────────────────────────────────┼─────────────────────────────┼─────────────────┤\n",
       "│ dense_234 (<span style=\"color: #0087ff; text-decoration-color: #0087ff\">Dense</span>)                    │ (<span style=\"color: #00d7ff; text-decoration-color: #00d7ff\">None</span>, <span style=\"color: #00af00; text-decoration-color: #00af00\">100</span>)                 │          <span style=\"color: #00af00; text-decoration-color: #00af00\">10,100</span> │\n",
       "├──────────────────────────────────────┼─────────────────────────────┼─────────────────┤\n",
       "│ dense_235 (<span style=\"color: #0087ff; text-decoration-color: #0087ff\">Dense</span>)                    │ (<span style=\"color: #00d7ff; text-decoration-color: #00d7ff\">None</span>, <span style=\"color: #00af00; text-decoration-color: #00af00\">50</span>)                  │           <span style=\"color: #00af00; text-decoration-color: #00af00\">5,050</span> │\n",
       "├──────────────────────────────────────┼─────────────────────────────┼─────────────────┤\n",
       "│ dropout_58 (<span style=\"color: #0087ff; text-decoration-color: #0087ff\">Dropout</span>)                 │ (<span style=\"color: #00d7ff; text-decoration-color: #00d7ff\">None</span>, <span style=\"color: #00af00; text-decoration-color: #00af00\">50</span>)                  │               <span style=\"color: #00af00; text-decoration-color: #00af00\">0</span> │\n",
       "├──────────────────────────────────────┼─────────────────────────────┼─────────────────┤\n",
       "│ dense_236 (<span style=\"color: #0087ff; text-decoration-color: #0087ff\">Dense</span>)                    │ (<span style=\"color: #00d7ff; text-decoration-color: #00d7ff\">None</span>, <span style=\"color: #00af00; text-decoration-color: #00af00\">2</span>)                   │             <span style=\"color: #00af00; text-decoration-color: #00af00\">102</span> │\n",
       "└──────────────────────────────────────┴─────────────────────────────┴─────────────────┘\n",
       "</pre>\n"
      ],
      "text/plain": [
       "┏━━━━━━━━━━━━━━━━━━━━━━━━━━━━━━━━━━━━━━┳━━━━━━━━━━━━━━━━━━━━━━━━━━━━━┳━━━━━━━━━━━━━━━━━┓\n",
       "┃\u001b[1m \u001b[0m\u001b[1mLayer (type)                        \u001b[0m\u001b[1m \u001b[0m┃\u001b[1m \u001b[0m\u001b[1mOutput Shape               \u001b[0m\u001b[1m \u001b[0m┃\u001b[1m \u001b[0m\u001b[1m        Param #\u001b[0m\u001b[1m \u001b[0m┃\n",
       "┡━━━━━━━━━━━━━━━━━━━━━━━━━━━━━━━━━━━━━━╇━━━━━━━━━━━━━━━━━━━━━━━━━━━━━╇━━━━━━━━━━━━━━━━━┩\n",
       "│ embedding_58 (\u001b[38;5;33mEmbedding\u001b[0m)             │ (\u001b[38;5;45mNone\u001b[0m, \u001b[38;5;34m44\u001b[0m, \u001b[38;5;34m44\u001b[0m)              │         \u001b[38;5;34m189,948\u001b[0m │\n",
       "├──────────────────────────────────────┼─────────────────────────────┼─────────────────┤\n",
       "│ global_average_pooling1d_58          │ (\u001b[38;5;45mNone\u001b[0m, \u001b[38;5;34m44\u001b[0m)                  │               \u001b[38;5;34m0\u001b[0m │\n",
       "│ (\u001b[38;5;33mGlobalAveragePooling1D\u001b[0m)             │                             │                 │\n",
       "├──────────────────────────────────────┼─────────────────────────────┼─────────────────┤\n",
       "│ dense_233 (\u001b[38;5;33mDense\u001b[0m)                    │ (\u001b[38;5;45mNone\u001b[0m, \u001b[38;5;34m100\u001b[0m)                 │           \u001b[38;5;34m4,500\u001b[0m │\n",
       "├──────────────────────────────────────┼─────────────────────────────┼─────────────────┤\n",
       "│ dense_234 (\u001b[38;5;33mDense\u001b[0m)                    │ (\u001b[38;5;45mNone\u001b[0m, \u001b[38;5;34m100\u001b[0m)                 │          \u001b[38;5;34m10,100\u001b[0m │\n",
       "├──────────────────────────────────────┼─────────────────────────────┼─────────────────┤\n",
       "│ dense_235 (\u001b[38;5;33mDense\u001b[0m)                    │ (\u001b[38;5;45mNone\u001b[0m, \u001b[38;5;34m50\u001b[0m)                  │           \u001b[38;5;34m5,050\u001b[0m │\n",
       "├──────────────────────────────────────┼─────────────────────────────┼─────────────────┤\n",
       "│ dropout_58 (\u001b[38;5;33mDropout\u001b[0m)                 │ (\u001b[38;5;45mNone\u001b[0m, \u001b[38;5;34m50\u001b[0m)                  │               \u001b[38;5;34m0\u001b[0m │\n",
       "├──────────────────────────────────────┼─────────────────────────────┼─────────────────┤\n",
       "│ dense_236 (\u001b[38;5;33mDense\u001b[0m)                    │ (\u001b[38;5;45mNone\u001b[0m, \u001b[38;5;34m2\u001b[0m)                   │             \u001b[38;5;34m102\u001b[0m │\n",
       "└──────────────────────────────────────┴─────────────────────────────┴─────────────────┘\n"
      ]
     },
     "metadata": {},
     "output_type": "display_data"
    },
    {
     "data": {
      "text/html": [
       "<pre style=\"white-space:pre;overflow-x:auto;line-height:normal;font-family:Menlo,'DejaVu Sans Mono',consolas,'Courier New',monospace\"><span style=\"font-weight: bold\"> Total params: </span><span style=\"color: #00af00; text-decoration-color: #00af00\">209,700</span> (819.14 KB)\n",
       "</pre>\n"
      ],
      "text/plain": [
       "\u001b[1m Total params: \u001b[0m\u001b[38;5;34m209,700\u001b[0m (819.14 KB)\n"
      ]
     },
     "metadata": {},
     "output_type": "display_data"
    },
    {
     "data": {
      "text/html": [
       "<pre style=\"white-space:pre;overflow-x:auto;line-height:normal;font-family:Menlo,'DejaVu Sans Mono',consolas,'Courier New',monospace\"><span style=\"font-weight: bold\"> Trainable params: </span><span style=\"color: #00af00; text-decoration-color: #00af00\">209,700</span> (819.14 KB)\n",
       "</pre>\n"
      ],
      "text/plain": [
       "\u001b[1m Trainable params: \u001b[0m\u001b[38;5;34m209,700\u001b[0m (819.14 KB)\n"
      ]
     },
     "metadata": {},
     "output_type": "display_data"
    },
    {
     "data": {
      "text/html": [
       "<pre style=\"white-space:pre;overflow-x:auto;line-height:normal;font-family:Menlo,'DejaVu Sans Mono',consolas,'Courier New',monospace\"><span style=\"font-weight: bold\"> Non-trainable params: </span><span style=\"color: #00af00; text-decoration-color: #00af00\">0</span> (0.00 B)\n",
       "</pre>\n"
      ],
      "text/plain": [
       "\u001b[1m Non-trainable params: \u001b[0m\u001b[38;5;34m0\u001b[0m (0.00 B)\n"
      ]
     },
     "metadata": {},
     "output_type": "display_data"
    },
    {
     "name": "stdout",
     "output_type": "stream",
     "text": [
      "Epoch 1/20\n",
      "\u001b[1m60/60\u001b[0m \u001b[32m━━━━━━━━━━━━━━━━━━━━\u001b[0m\u001b[37m\u001b[0m \u001b[1m1s\u001b[0m 3ms/step - accuracy: 0.4870 - loss: 0.6935 - val_accuracy: 0.4500 - val_loss: 0.7039\n",
      "Epoch 2/20\n",
      "\u001b[1m60/60\u001b[0m \u001b[32m━━━━━━━━━━━━━━━━━━━━\u001b[0m\u001b[37m\u001b[0m \u001b[1m0s\u001b[0m 2ms/step - accuracy: 0.4806 - loss: 0.6977 - val_accuracy: 0.4500 - val_loss: 0.6991\n",
      "Epoch 3/20\n",
      "\u001b[1m60/60\u001b[0m \u001b[32m━━━━━━━━━━━━━━━━━━━━\u001b[0m\u001b[37m\u001b[0m \u001b[1m0s\u001b[0m 2ms/step - accuracy: 0.5177 - loss: 0.6913 - val_accuracy: 0.4812 - val_loss: 0.6911\n",
      "Epoch 4/20\n",
      "\u001b[1m60/60\u001b[0m \u001b[32m━━━━━━━━━━━━━━━━━━━━\u001b[0m\u001b[37m\u001b[0m \u001b[1m0s\u001b[0m 2ms/step - accuracy: 0.5624 - loss: 0.6873 - val_accuracy: 0.6875 - val_loss: 0.6290\n",
      "Epoch 5/20\n",
      "\u001b[1m60/60\u001b[0m \u001b[32m━━━━━━━━━━━━━━━━━━━━\u001b[0m\u001b[37m\u001b[0m \u001b[1m0s\u001b[0m 2ms/step - accuracy: 0.6800 - loss: 0.5945 - val_accuracy: 0.6771 - val_loss: 0.5894\n",
      "Epoch 6/20\n",
      "\u001b[1m60/60\u001b[0m \u001b[32m━━━━━━━━━━━━━━━━━━━━\u001b[0m\u001b[37m\u001b[0m \u001b[1m0s\u001b[0m 2ms/step - accuracy: 0.8297 - loss: 0.3927 - val_accuracy: 0.8104 - val_loss: 0.4542\n",
      "Epoch 7/20\n",
      "\u001b[1m60/60\u001b[0m \u001b[32m━━━━━━━━━━━━━━━━━━━━\u001b[0m\u001b[37m\u001b[0m \u001b[1m0s\u001b[0m 2ms/step - accuracy: 0.8676 - loss: 0.3344 - val_accuracy: 0.8042 - val_loss: 0.4898\n",
      "Epoch 8/20\n",
      "\u001b[1m60/60\u001b[0m \u001b[32m━━━━━━━━━━━━━━━━━━━━\u001b[0m\u001b[37m\u001b[0m \u001b[1m0s\u001b[0m 2ms/step - accuracy: 0.8950 - loss: 0.2851 - val_accuracy: 0.8000 - val_loss: 0.4743\n",
      "Training loss:  0.19865268468856812\n",
      "Training accuracy:  0.9275000095367432\n",
      "Test loss:  0.45759445428848267\n",
      "Test accuracy:  0.8083333373069763\n"
     ]
    }
   ],
   "source": [
    "# Rev up those neural networks\n",
    "n_cols = padded_train.shape[1]\n",
    "input_shape = (n_cols, )\n",
    "\n",
    "\n",
    "model = Sequential([\n",
    "    tf.keras.layers.Input(input_shape),\n",
    "    Embedding(vocab_len, 44), \n",
    "    tf.keras.layers.GlobalAveragePooling1D(),\n",
    "    Dense(100, activation = \"relu\"),\n",
    "    Dense(100, activation = \"relu\"),\n",
    "    Dense(50, activation = \"relu\"),\n",
    "    Dropout(.5),\n",
    "    Dense(2, activation = \"softmax\")\n",
    "    ])\n",
    "\n",
    "# Early stopping\n",
    "early_stopping_monitor = EarlyStopping(patience = 2)\n",
    "\n",
    "# Compiling the model\n",
    "model.compile(optimizer = \"adam\", loss = \"categorical_crossentropy\", metrics = [\"accuracy\"])\n",
    "\n",
    "# Summary\n",
    "model.summary()\n",
    "\n",
    "# Fitting model\n",
    "model_history = model.fit(padded_train, y_train_encoded, epochs = 20, validation_split = .2, callbacks = [early_stopping_monitor], verbose = True)\n",
    "\n",
    "# Model evaluation\n",
    "train_evaluation = model.evaluate(X_train_df, y_train_encoded, verbose = 0)\n",
    "print(\"Training loss: \", train_evaluation[0])\n",
    "print(\"Training accuracy: \", train_evaluation[1])\n",
    "\n",
    "test_evaluation = model.evaluate(X_test_df, y_test_encoded, verbose = 0)\n",
    "\n",
    "print(\"Test loss: \", test_evaluation[0])\n",
    "print(\"Test accuracy: \", test_evaluation[1])"
   ]
  },
  {
   "cell_type": "markdown",
   "id": "eb08a138-9838-484f-9bf7-1d379c391b30",
   "metadata": {},
   "source": [
    "C1:\n",
    "\n",
    "See above for model summary.\n",
    "\n",
    "C2: \n",
    "\n",
    "In the model, I chose to include 8 total layers. I started with an Input layer for the shape of the data, one Embedding layer, one Global Average Pooling, 4 Dense layers (including the final layer), and a Dropout layer. I tried including another Dense layer, but it dropped the accuracy of the model by a whopping 10% on average.\n",
    "\n",
    "Input Layer - defining shape\n",
    "Embedding Layer - input our vocabulary length and embedding length - Paramaters: 189, 948\n",
    "Global Average Pooling Layer - reduce dimensions of data\n",
    "Dense Layer - 100 Nodes - Paramaters: 4,500\n",
    "Dense Layer - 100 Nodes - Paramaters: 10,100\n",
    "Dense Layer - 50 Nodes - Paramaters: 5,050\n",
    "Dropout Layer - safeguard against overfitting\n",
    "Dense Layer - 2 Nodes (output) - Paramaters: 102\n",
    "\n",
    "C3:\n",
    "\n",
    "Activation Functions: I chose \"relu\" for the activation functions for the non-output Dense layers. This made the most sense for the volume of nodes involved. I did try Sigmoid and SoftMax in the hidden Dense layers, but accuracy plummeted. For the output layer, I chose SoftMax because it works nicely with binary options, and my model suffered when I tried to substitute it with Sigmoid in this layer.\n",
    "\n",
    "Number of Nodes: The number of nodes was an absolute trial and error effort. I defaulted to 100 nodes per layer, and on most of the layers that's where the best results landed. I tried raising and lowering the number of nodes, and the only one that yielded positive results was reducing the last non-output layer to 50. As discussed previously, the output layer has two nodes because of the binary nature of the reviews.\n",
    "\n",
    "Loss Function: While both binary and categorical crossentropy would work as loss functions, I decided on categorical crossentropy. I reran this model with both of them and found categorical gave better results than binary.\n",
    "\n",
    "Optimizer: I used the Adam optimizer simply because it appears to be the best in the business at the moment, combining many of the best aspects of other modern optimizers.\n",
    "\n",
    "Stopping Criteria: I decided on two for the patience paramater of the stopping criteria. I think it's a nice medium between letting the model have variation between epochs while not allowing it to meander too much.\n",
    "\n",
    "Evaluation Metric: My evaluation metric I will be focusing on is the accuracy of the model. By looking at the validation accuracy and the test accuracy, I can ensure that the model is not overfitted while assessing how well the model predicts potential unknowns."
   ]
  },
  {
   "cell_type": "code",
   "execution_count": 252,
   "id": "d58d9627-00bf-44e0-9f08-8291304751ca",
   "metadata": {},
   "outputs": [
    {
     "data": {
      "image/png": "[encoded data removed]",
      "text/plain": [
       "<Figure size 640x480 with 1 Axes>"
      ]
     },
     "metadata": {},
     "output_type": "display_data"
    },
    {
     "data": {
      "image/png": "[encoded data removed]",
      "text/plain": [
       "<Figure size 640x480 with 1 Axes>"
      ]
     },
     "metadata": {},
     "output_type": "display_data"
    }
   ],
   "source": [
    "# Visualized eval\n",
    "# plot_graphs() from Dr. Festus Elleh's D213 Webinar\n",
    "\n",
    "def plot_graphs(history, string):\n",
    "    plt.plot(history.history[string])\n",
    "    plt.plot(history.history[\"val_\"+string])\n",
    "    plt.xlabel(\"Epochs\")\n",
    "    plt.ylabel(string)\n",
    "    plt.legend([string, \"val_\"+string])\n",
    "    plt.show()\n",
    "\n",
    "plot_graphs(model_history, \"accuracy\")\n",
    "plot_graphs(model_history, \"loss\")"
   ]
  },
  {
   "cell_type": "markdown",
   "id": "9a118fe7-565e-465f-894e-31ba1abf4d98",
   "metadata": {},
   "source": [
    "D1:\n",
    "\n",
    "As discussed above, I decided on a patience of two for the stopping criteria. I also decided to set a maximum of 20 epochs. I wanted to err on the side of a higher number of epochs with slightly stricter stopping criteria. See all of the training epochs above.\n",
    "\n",
    "D2:\n",
    "\n",
    "The model is very well fit to the data, at a 92% training accuracy. I would argue that is is not overfit, though, due to its 80.8% test accuracy. The stopping criteria helped prevent overfitting, as did the Dropout layer included before the final Dense layer.\n",
    "\n",
    "D3:\n",
    "\n",
    "Visuals provided above.\n",
    "\n",
    "D4:\n",
    "\n",
    "The accuracy of the model is quite good - 80.8%! Not the best it can possibly be, but the ease of creation of this rudimentary neural language processing model cannot be understated. With a more robust model and a larger volume of data, the model could be honed further."
   ]
  },
  {
   "cell_type": "code",
   "execution_count": 87,
   "id": "571507b6-9db9-45f3-ba3e-09c5609f5b4a",
   "metadata": {},
   "outputs": [],
   "source": [
    "# Saving the model\n",
    "\n",
    "model.save(\"C:\\\\Users\\\\jackg\\\\Documents\\\\Python Projects\\\\D213\\\\PA 2\\\\model.keras\")"
   ]
  },
  {
   "cell_type": "markdown",
   "id": "b210921f-3715-47c5-ba12-b7db90bbb70c",
   "metadata": {},
   "source": [
    "E:\n",
    "\n",
    "Code provided above.\n",
    "\n",
    "F:\n",
    "\n",
    "This neural network functions well, predicting sentiment with 80.8% accuracy. There is 19.2% to improve though, and much of that can surely be found by using different architecture; more Dense layers with more optimized numbers of nodes or different types of layers. The current architecture does allow for a workable degree of acuracy.\n",
    "\n",
    "The network itself was trained on 2,400 reviews and their sentiments. Using tokenization, I fed those reviews as \"digestable\" numeric values to the neural network. \n",
    "\n",
    "G:\n",
    "\n",
    "As always, I would recommend further research. My main concern would be with creating a larger database on which to train the neural network. 3,000 reviews is a lot to a single person reading through, but to a neural network that can filter through data at breakneck speeds, it's light work. Pulling from different sources outside of the three we already had would also be relevant to make the natural language processing model more universal. Right now it \"knows\" the language of film, restaurant, and product reviews. Bringing in reviews from different industries would allow for more diverse training.\n",
    "\n",
    "For immediate action, I would say we can apply this model for now. If there are non-scored reviews that we have and need to determine sentiment, this model can do so with 80% accuracy and with a speed no human could manage.\n",
    "\n",
    "Overall, I would say we can use this model now, but should continue to iterate and improve.\n",
    "\n",
    "H:\n",
    "\n",
    "This file submitted as an ipynb file and pdf.\n",
    "\n",
    "I: Sources noted in code comments.\n",
    "\n",
    "J: No sources cited."
   ]
  },
  {
   "cell_type": "code",
   "execution_count": null,
   "id": "0008f48b-c83f-4c3e-93dc-359199f75e1b",
   "metadata": {},
   "outputs": [],
   "source": []
  }
 ],
 "metadata": {
  "kernelspec": {
   "display_name": "Python 3 (ipykernel)",
   "language": "python",
   "name": "python3"
  },
  "language_info": {
   "codemirror_mode": {
    "name": "ipython",
    "version": 3
   },
   "file_extension": ".py",
   "mimetype": "text/x-python",
   "name": "python",
   "nbconvert_exporter": "python",
   "pygments_lexer": "ipython3",
   "version": "3.10.4"
  }
 },
 "nbformat": 4,
 "nbformat_minor": 5
}
